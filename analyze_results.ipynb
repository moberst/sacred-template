{
 "cells": [
  {
   "cell_type": "markdown",
   "metadata": {},
   "source": [
    "# Analyzing the results of a toy experiment\n",
    "\n",
    "In this notebook we show how simple it is to (a) aggregate results across experimental runs, and (b) drill down into the details of any individual run\n",
    "\n",
    "In this notebook, we analyze the results of the experiment, **after** `run.sh` has already been executed."
   ]
  },
  {
   "cell_type": "code",
   "execution_count": 11,
   "metadata": {},
   "outputs": [],
   "source": [
    "import numpy as np\n",
    "import pandas as pd\n",
    "import matplotlib.pyplot as plt\n",
    "import seaborn as sns\n",
    "import pickle"
   ]
  },
  {
   "cell_type": "code",
   "execution_count": 2,
   "metadata": {},
   "outputs": [],
   "source": [
    "from sacred.observers import TinyDbReader\n",
    "data_path = './output/results'\n",
    "reader = TinyDbReader(data_path)"
   ]
  },
  {
   "cell_type": "code",
   "execution_count": 3,
   "metadata": {},
   "outputs": [],
   "source": [
    "meta = reader.fetch_metadata(exp_name='test')\n",
    "files = reader.fetch_files(exp_name='test')"
   ]
  },
  {
   "cell_type": "markdown",
   "metadata": {},
   "source": [
    "# 1. Collecting aggregate results"
   ]
  },
  {
   "cell_type": "markdown",
   "metadata": {},
   "source": [
    "We explain what else is in the meta-data in the next section, but for now we are only concerned with aggregating the configuration for each run, as well as the custom metrics we recorded in `ex.info`"
   ]
  },
  {
   "cell_type": "code",
   "execution_count": 4,
   "metadata": {},
   "outputs": [],
   "source": [
    "result_df = pd.concat([\n",
    "    pd.DataFrame([meta[i]['config'] for i in range(len(meta))]), \n",
    "    pd.DataFrame([meta[i]['info'] for i in range(len(meta))])],\n",
    "    axis=1)"
   ]
  },
  {
   "cell_type": "markdown",
   "metadata": {},
   "source": [
    "For example, we can make a learning curve that shows how our test MSE changes with the size of the training dataset.  Note that `seaborn` has some nice built-in bootstrapping-based methods for calculating confidence intervals for data where we have multiple entries at each value of `x` (in our case, this is aggregating over the random seed).  See [seaborn documentation](https://seaborn.pydata.org/tutorial/relational.html#aggregation-and-representing-uncertainty) for more information."
   ]
  },
  {
   "cell_type": "code",
   "execution_count": 7,
   "metadata": {},
   "outputs": [
    {
     "data": {
      "image/png": "[encoded data removed]",
      "text/plain": [
       "<Figure size 432x288 with 1 Axes>"
      ]
     },
     "metadata": {
      "needs_background": "light"
     },
     "output_type": "display_data"
    }
   ],
   "source": [
    "sns.lineplot(x='n_train_samp', y='rmse_y', data=result_df)\n",
    "\n",
    "plt.show()"
   ]
  },
  {
   "cell_type": "markdown",
   "metadata": {},
   "source": [
    "Lo and behold, the test error goes down as we increasing the training set size.  In this experiment we only varied a single experimental parameter (namely `n_train_samp`), but you could imagine collecting results from hyperparamter search over a larger set of variables."
   ]
  },
  {
   "cell_type": "markdown",
   "metadata": {},
   "source": [
    "# 2. Examining an individual experiment\n",
    "\n",
    "We'll take a look at an illustrative experiment to see what is recorded on the individual experiment level"
   ]
  },
  {
   "cell_type": "code",
   "execution_count": 8,
   "metadata": {},
   "outputs": [],
   "source": [
    "exp_idx = 0"
   ]
  },
  {
   "cell_type": "markdown",
   "metadata": {},
   "source": [
    "## 2a. Source files and artifacts"
   ]
  },
  {
   "cell_type": "markdown",
   "metadata": {},
   "source": [
    "`fetch_files` will return file connections to all the files which were flagged / stored during experiments.  This includes a link to the python script itself that was used to run the experiment..."
   ]
  },
  {
   "cell_type": "code",
   "execution_count": 17,
   "metadata": {},
   "outputs": [],
   "source": [
    "# This will print out the contents of `exp.py`, the script used to run the experiment\n",
    "# files[exp_idx]['sources']['exp.py'].readlines()"
   ]
  },
  {
   "cell_type": "markdown",
   "metadata": {},
   "source": [
    "... well as any other files that we flagged using `ex.add_artifact`, which in this case includes the saved model file.  This was saved in our script (after we pickled the model) using\n",
    "```python\n",
    "ex.add_artifact(file_path, 'model')\n",
    "```"
   ]
  },
  {
   "cell_type": "code",
   "execution_count": 12,
   "metadata": {},
   "outputs": [],
   "source": [
    "clf = pickle.load(files[exp_idx]['artifacts']['model'])"
   ]
  },
  {
   "cell_type": "code",
   "execution_count": 13,
   "metadata": {},
   "outputs": [
    {
     "data": {
      "text/plain": [
       "Lasso(alpha=1.0, copy_X=True, fit_intercept=True, max_iter=1000,\n",
       "      normalize=False, positive=False, precompute=False, random_state=None,\n",
       "      selection='cyclic', tol=0.0001, warm_start=False)"
      ]
     },
     "execution_count": 13,
     "metadata": {},
     "output_type": "execute_result"
    }
   ],
   "source": [
    "clf"
   ]
  },
  {
   "cell_type": "markdown",
   "metadata": {},
   "source": [
    "## 2b. Configuration and custom metrics"
   ]
  },
  {
   "cell_type": "markdown",
   "metadata": {},
   "source": [
    "`meta` contains the configuration for every experiment run"
   ]
  },
  {
   "cell_type": "code",
   "execution_count": 14,
   "metadata": {},
   "outputs": [
    {
     "data": {
      "text/plain": [
       "{'np_seed': 1,\n",
       " 'n_train_samp': 500,\n",
       " 'n_test_samp': 1000,\n",
       " 'n_features': 1000,\n",
       " 'sparsity': 0.1,\n",
       " 'n_informative': 100,\n",
       " 'alpha': 1.0,\n",
       " 'seed': 123128168}"
      ]
     },
     "execution_count": 14,
     "metadata": {},
     "output_type": "execute_result"
    }
   ],
   "source": [
    "meta[exp_idx]['config']"
   ]
  },
  {
   "cell_type": "markdown",
   "metadata": {},
   "source": [
    "`meta` also contains the `info` dictionary, which we used in the script to capture custom metrics by writing (for example)\n",
    "```python\n",
    "ex.info['R2'] = ...\n",
    "```"
   ]
  },
  {
   "cell_type": "code",
   "execution_count": 15,
   "metadata": {},
   "outputs": [
    {
     "data": {
      "text/plain": [
       "{'rmse_y': 12.864683946783622, 'rmse_coef': 0.4055952852399809}"
      ]
     },
     "execution_count": 15,
     "metadata": {},
     "output_type": "execute_result"
    }
   ],
   "source": [
    "meta[exp_idx]['info']"
   ]
  },
  {
   "cell_type": "markdown",
   "metadata": {},
   "source": [
    "There is much more in the `meta` dictionary (including details of the hardware used in the experiment, and many other details).  Run this notebook and see for yourself!"
   ]
  }
 ],
 "metadata": {
  "kernelspec": {
   "display_name": "Python 3",
   "language": "python",
   "name": "python3"
  },
  "language_info": {
   "codemirror_mode": {
    "name": "ipython",
    "version": 3
   },
   "file_extension": ".py",
   "mimetype": "text/x-python",
   "name": "python",
   "nbconvert_exporter": "python",
   "pygments_lexer": "ipython3",
   "version": "3.7.6"
  }
 },
 "nbformat": 4,
 "nbformat_minor": 2
}
